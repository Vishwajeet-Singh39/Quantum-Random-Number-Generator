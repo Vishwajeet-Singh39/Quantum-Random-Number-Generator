{
 "cells": [
  {
   "cell_type": "code",
   "execution_count": null,
   "id": "ab2d35ac-5304-4792-baad-cd945f7c35f2",
   "metadata": {},
   "outputs": [],
   "source": [
    "from qiskit import QuantumRegister, ClassicalRegister, QuantumCircuit,IBMQ,execute\n",
    "\n",
    "IBMQ.load_account()\n",
    "provider = IBMQ.get_provider(hub='ibm-q', group='open', project='main')\n",
    "\n",
    "print('\\n\\n7-bit Random Numbers\\n')\n",
    "print('Binary        Decimal\\n')\n",
    "\n",
    "for i in range(1):\n",
    "    \n",
    "    qreg_q = QuantumRegister(7, 'q')\n",
    "    creg_c = ClassicalRegister(7, 'c')\n",
    "    circuit = QuantumCircuit(qreg_q, creg_c)\n",
    "\n",
    "\n",
    "    circuit.h(qreg_q[0])\n",
    "    circuit.h(qreg_q[1])\n",
    "    circuit.h(qreg_q[2])\n",
    "    circuit.h(qreg_q[3])\n",
    "    circuit.h(qreg_q[4])\n",
    "    circuit.h(qreg_q[5])\n",
    "    circuit.h(qreg_q[6])\n",
    "\n",
    "\n",
    "    circuit.measure(qreg_q[0], creg_c[0])\n",
    "    circuit.measure(qreg_q[1], creg_c[1])\n",
    "    circuit.measure(qreg_q[2], creg_c[2])\n",
    "    circuit.measure(qreg_q[3], creg_c[3])\n",
    "    circuit.measure(qreg_q[4], creg_c[4])\n",
    "    circuit.measure(qreg_q[5], creg_c[5])\n",
    "    circuit.measure(qreg_q[6], creg_c[6])\n",
    "\n",
    "    backend = provider.get_backend('ibm_nairobi')\n",
    "    job = execute(circuit, backend, shots=1, init_qubits=True)\n",
    "\n",
    "    result = job.result()\n",
    "    counts = result.get_counts(circuit)\n",
    "\n",
    "    binary=list(counts)\n",
    "    decimal=int(binary[0],2)\n",
    "    \n",
    "    print(binary[0],'     ', decimal,'\\n')"
   ]
  }
 ],
 "metadata": {
  "kernelspec": {
   "display_name": "Python 3 (ipykernel)",
   "language": "python",
   "name": "python3"
  },
  "language_info": {
   "codemirror_mode": {
    "name": "ipython",
    "version": 3
   },
   "file_extension": ".py",
   "mimetype": "text/x-python",
   "name": "python",
   "nbconvert_exporter": "python",
   "pygments_lexer": "ipython3",
   "version": "3.8.13"
  },
  "widgets": {
   "application/vnd.jupyter.widget-state+json": {
    "state": {
     "004a999d66c640c1ba86b1ee25533ea1": {
      "model_module": "@jupyter-widgets/base",
      "model_module_version": "1.2.0",
      "model_name": "LayoutModel",
      "state": {
       "width": "190px"
      }
     },
     "01ee5cc7b8154a9a91c30defcd16d3e5": {
      "model_module": "@jupyter-widgets/controls",
      "model_module_version": "1.5.0",
      "model_name": "HBoxModel",
      "state": {
       "children": [
        "IPY_MODEL_41b3f051e0de40239e9272e03079caff",
        "IPY_MODEL_dcd016e2368d451e85a9f21d72668cdb",
        "IPY_MODEL_f7fc62a022db4675b23a37e18e0650ab",
        "IPY_MODEL_960585c99a6f4928840fdaa962ed7e5d",
        "IPY_MODEL_58f4dabdcf324995a19e1ea1106bb518",
        "IPY_MODEL_30773f6eddbd4bfd947cf2a77b22bb92"
       ],
       "layout": "IPY_MODEL_3cde7d19b31b480f85813e52d5e4357d"
      }
     },
     "026281ecf82141f989bdb17c28aa6f1d": {
      "model_module": "@jupyter-widgets/base",
      "model_module_version": "1.2.0",
      "model_name": "LayoutModel",
      "state": {}
     },
     "0343d5711e304cb694572deee075ac7e": {
      "model_module": "@jupyter-widgets/controls",
      "model_module_version": "1.5.0",
      "model_name": "HBoxModel",
      "state": {
       "children": [
        "IPY_MODEL_6857d4b191b34bc4abf0f90e5bb1c36b",
        "IPY_MODEL_6b382b492c0e43b494dec603e34ed6a9",
        "IPY_MODEL_cb310aad71bf4f6f8641cdc9ac3c7d88",
        "IPY_MODEL_e40bbafd755b4832b013d690ec2f1c40",
        "IPY_MODEL_2affbe2a71a54da4aa8bbda3c07204d6"
       ],
       "layout": "IPY_MODEL_f0b8897918fe42b79bbe7a9b6d02e3ac"
      }
     },
     "05d745e31f444ebe8ee161272b374cf7": {
      "model_module": "@jupyter-widgets/base",
      "model_module_version": "1.2.0",
      "model_name": "LayoutModel",
      "state": {
       "width": "95px"
      }
     },
     "06e08d2ad3c34851bd7bb3c15bf3491d": {
      "model_module": "@jupyter-widgets/controls",
      "model_module_version": "1.5.0",
      "model_name": "DescriptionStyleModel",
      "state": {
       "description_width": ""
      }
     },
     "0bac08da286a45739f13477f8f5edeb1": {
      "model_module": "@jupyter-widgets/base",
      "model_module_version": "1.2.0",
      "model_name": "LayoutModel",
      "state": {
       "width": "145px"
      }
     },
     "0dc70c4f99a141ff95239ab48bf816cf": {
      "model_module": "@jupyter-widgets/base",
      "model_module_version": "1.2.0",
      "model_name": "LayoutModel",
      "state": {
       "width": "95px"
      }
     },
     "0f6d91b34e034ad5a6b003c3c7481371": {
      "model_module": "@jupyter-widgets/base",
      "model_module_version": "1.2.0",
      "model_name": "LayoutModel",
      "state": {
       "width": "70px"
      }
     },
     "14e84e944dff49e68ab048598bf7d0a9": {
      "model_module": "@jupyter-widgets/base",
      "model_module_version": "1.2.0",
      "model_name": "LayoutModel",
      "state": {
       "overflow_x": "scroll"
      }
     },
     "1524f1de54ff499ebfae53a9c416a728": {
      "model_module": "@jupyter-widgets/controls",
      "model_module_version": "1.5.0",
      "model_name": "HTMLModel",
      "state": {
       "layout": "IPY_MODEL_0f6d91b34e034ad5a6b003c3c7481371",
       "style": "IPY_MODEL_89a9ba3c9c6d49499e882b7bdfe5ff03",
       "value": "-"
      }
     },
     "158a92f443304fc7953406f995cf2ed5": {
      "model_module": "@jupyter-widgets/base",
      "model_module_version": "1.2.0",
      "model_name": "LayoutModel",
      "state": {
       "overflow_x": "scroll"
      }
     },
     "1eb1084043f4490a90807cbeeeb236b0": {
      "model_module": "@jupyter-widgets/controls",
      "model_module_version": "1.5.0",
      "model_name": "DescriptionStyleModel",
      "state": {
       "description_width": ""
      }
     },
     "23b38c70fc3e4153ac5b87cf9164b5f3": {
      "model_module": "@jupyter-widgets/base",
      "model_module_version": "1.2.0",
      "model_name": "LayoutModel",
      "state": {
       "margin": "0px 0px 10px 0px"
      }
     },
     "29164635409a4447a31fe8879c8be760": {
      "model_module": "@jupyter-widgets/base",
      "model_module_version": "1.2.0",
      "model_name": "LayoutModel",
      "state": {
       "width": "95px"
      }
     },
     "29e6372cf13b4bdfa8f5f580a0858236": {
      "model_module": "@jupyter-widgets/controls",
      "model_module_version": "1.5.0",
      "model_name": "HTMLModel",
      "state": {
       "layout": "IPY_MODEL_9ce7d3893397437f876611eb2554805f",
       "style": "IPY_MODEL_6f6cf358f0b34f82b0c54ced6a40c9c4",
       "value": "62bc9cb8cd175b7b7ee70236"
      }
     },
     "2a56e2fbf3c9410d9e19fcfd1047665a": {
      "model_module": "@jupyter-widgets/controls",
      "model_module_version": "1.5.0",
      "model_name": "HTMLModel",
      "state": {
       "layout": "IPY_MODEL_71f42729e18240e5a411709c75a5f4d4",
       "style": "IPY_MODEL_52d2124a966f41e1ad4b8a4f3d0aabc4",
       "value": "2"
      }
     },
     "2affbe2a71a54da4aa8bbda3c07204d6": {
      "model_module": "@jupyter-widgets/controls",
      "model_module_version": "1.5.0",
      "model_name": "HTMLModel",
      "state": {
       "layout": "IPY_MODEL_026281ecf82141f989bdb17c28aa6f1d",
       "style": "IPY_MODEL_1eb1084043f4490a90807cbeeeb236b0",
       "value": "<h5>Message</h5>"
      }
     },
     "2b0656d50e844e2d92b0a47a24b77f07": {
      "model_module": "@jupyter-widgets/controls",
      "model_module_version": "1.5.0",
      "model_name": "DescriptionStyleModel",
      "state": {
       "description_width": ""
      }
     },
     "2b1c9619ef8b4b6a9c10d54cce1b3137": {
      "model_module": "@jupyter-widgets/controls",
      "model_module_version": "1.5.0",
      "model_name": "DescriptionStyleModel",
      "state": {
       "description_width": ""
      }
     },
     "2d49b9d233ec40709e4507641f9daf3d": {
      "model_module": "@jupyter-widgets/controls",
      "model_module_version": "1.5.0",
      "model_name": "ButtonStyleModel",
      "state": {
       "button_color": "white"
      }
     },
     "2f28d6aa09cb4733a3f2d13cedfeef1f": {
      "model_module": "@jupyter-widgets/controls",
      "model_module_version": "1.5.0",
      "model_name": "ButtonStyleModel",
      "state": {
       "button_color": "white"
      }
     },
     "2f43d1f5f3a24c07852c90a9597b1000": {
      "model_module": "@jupyter-widgets/controls",
      "model_module_version": "1.5.0",
      "model_name": "ButtonModel",
      "state": {
       "icon": "close",
       "layout": "IPY_MODEL_8f696fcfc666485dbc6ee21607152dbd",
       "style": "IPY_MODEL_78deb9dc29614f38832aea76ab801c73"
      }
     },
     "2fafeb8ecb6f4d82af7c8b478375edf4": {
      "model_module": "@jupyter-widgets/controls",
      "model_module_version": "1.5.0",
      "model_name": "DescriptionStyleModel",
      "state": {
       "description_width": ""
      }
     },
     "2fbe03a2233c4ea4ad06d3497d6dec34": {
      "model_module": "@jupyter-widgets/base",
      "model_module_version": "1.2.0",
      "model_name": "LayoutModel",
      "state": {
       "width": "95px"
      }
     },
     "30773f6eddbd4bfd947cf2a77b22bb92": {
      "model_module": "@jupyter-widgets/controls",
      "model_module_version": "1.5.0",
      "model_name": "HTMLModel",
      "state": {
       "layout": "IPY_MODEL_7532fe2c01a44a6d99ad29efb5dc33ac",
       "style": "IPY_MODEL_6fbfa87c3ec04987bb1598f35e5dccd2",
       "value": "job is queued"
      }
     },
     "32b61d19d0714bc39e8156451379fe69": {
      "model_module": "@jupyter-widgets/controls",
      "model_module_version": "1.5.0",
      "model_name": "HBoxModel",
      "state": {
       "children": [
        "IPY_MODEL_46750d0f2a2744d498d552c8f4274d1b",
        "IPY_MODEL_29e6372cf13b4bdfa8f5f580a0858236",
        "IPY_MODEL_43335fd2948d434693f592644a090ea9",
        "IPY_MODEL_b9b41830e63e4181babbb0cc4d804db1",
        "IPY_MODEL_668beb464aae4952b4e46d58805b9dda",
        "IPY_MODEL_8c3c74a8682944269a61e3cadfb88525"
       ],
       "layout": "IPY_MODEL_c9a8c676b5354ca19b33fa0e239c1865"
      }
     },
     "33b3b04c8ce44c1d9df4c0e5a612cc2c": {
      "model_module": "@jupyter-widgets/controls",
      "model_module_version": "1.5.0",
      "model_name": "ButtonModel",
      "state": {
       "button_style": "primary",
       "description": "Clear",
       "layout": "IPY_MODEL_ce634acabef54a4187ad8a230d525afb",
       "style": "IPY_MODEL_4ce901422d0141b589055aea41e6438f"
      }
     },
     "36620e0aa9684b44ae51819dfad6d060": {
      "model_module": "@jupyter-widgets/controls",
      "model_module_version": "1.5.0",
      "model_name": "ButtonStyleModel",
      "state": {
       "button_color": "white"
      }
     },
     "36c54ea070f14d209fee7c319753fa55": {
      "model_module": "@jupyter-widgets/base",
      "model_module_version": "1.2.0",
      "model_name": "LayoutModel",
      "state": {
       "width": "145px"
      }
     },
     "3b63da3d18204448b4c65e74f57fdca2": {
      "model_module": "@jupyter-widgets/controls",
      "model_module_version": "1.5.0",
      "model_name": "HTMLModel",
      "state": {
       "layout": "IPY_MODEL_4fd2aa2b20a94072bb9aadd64a5927a7",
       "style": "IPY_MODEL_eccbd8e16b1c431dbcc5c2e89fa5dc03",
       "value": "62bc92d95a1cb031ba775870"
      }
     },
     "3c7da62dd5ce4b539d96221eddc12f45": {
      "model_module": "@jupyter-widgets/base",
      "model_module_version": "1.2.0",
      "model_name": "LayoutModel",
      "state": {
       "max_width": "700px",
       "min_width": "700px"
      }
     },
     "3cde7d19b31b480f85813e52d5e4357d": {
      "model_module": "@jupyter-widgets/base",
      "model_module_version": "1.2.0",
      "model_name": "LayoutModel",
      "state": {
       "max_width": "700px",
       "min_width": "700px"
      }
     },
     "3de5a347246d43b6a48c8d7f13d20b09": {
      "model_module": "@jupyter-widgets/base",
      "model_module_version": "1.2.0",
      "model_name": "LayoutModel",
      "state": {
       "width": "70px"
      }
     },
     "3ebf7e21b4e34280a2b4fc6c1cacc46f": {
      "model_module": "@jupyter-widgets/controls",
      "model_module_version": "1.5.0",
      "model_name": "DescriptionStyleModel",
      "state": {
       "description_width": ""
      }
     },
     "41b3f051e0de40239e9272e03079caff": {
      "model_module": "@jupyter-widgets/controls",
      "model_module_version": "1.5.0",
      "model_name": "ButtonModel",
      "state": {
       "icon": "close",
       "layout": "IPY_MODEL_8b5aa2107db9432ab5c157f19edb7504",
       "style": "IPY_MODEL_36620e0aa9684b44ae51819dfad6d060"
      }
     },
     "43335fd2948d434693f592644a090ea9": {
      "model_module": "@jupyter-widgets/controls",
      "model_module_version": "1.5.0",
      "model_name": "HTMLModel",
      "state": {
       "layout": "IPY_MODEL_d940dd96d09d40b48db0ba2e1c36fe1a",
       "style": "IPY_MODEL_e360e4abf3d647918ad3a045720a8f12",
       "value": "ibm_nairobi"
      }
     },
     "454a9e8980e643209a69076b24932b2f": {
      "model_module": "@jupyter-widgets/base",
      "model_module_version": "1.2.0",
      "model_name": "LayoutModel",
      "state": {
       "width": "190px"
      }
     },
     "46750d0f2a2744d498d552c8f4274d1b": {
      "model_module": "@jupyter-widgets/controls",
      "model_module_version": "1.5.0",
      "model_name": "ButtonModel",
      "state": {
       "icon": "close",
       "layout": "IPY_MODEL_9f5be5fc9f9f4da2a97c2a3623ae7ebb",
       "style": "IPY_MODEL_2d49b9d233ec40709e4507641f9daf3d"
      }
     },
     "475fa3cb0a124599a1d9b40f40fac49a": {
      "model_module": "@jupyter-widgets/controls",
      "model_module_version": "1.5.0",
      "model_name": "HTMLModel",
      "state": {
       "layout": "IPY_MODEL_004a999d66c640c1ba86b1ee25533ea1",
       "style": "IPY_MODEL_3ebf7e21b4e34280a2b4fc6c1cacc46f",
       "value": "62bc9a242157c17ecf90d87c"
      }
     },
     "4ce901422d0141b589055aea41e6438f": {
      "model_module": "@jupyter-widgets/controls",
      "model_module_version": "1.5.0",
      "model_name": "ButtonStyleModel",
      "state": {}
     },
     "4fd2aa2b20a94072bb9aadd64a5927a7": {
      "model_module": "@jupyter-widgets/base",
      "model_module_version": "1.2.0",
      "model_name": "LayoutModel",
      "state": {
       "width": "190px"
      }
     },
     "52d2124a966f41e1ad4b8a4f3d0aabc4": {
      "model_module": "@jupyter-widgets/controls",
      "model_module_version": "1.5.0",
      "model_name": "DescriptionStyleModel",
      "state": {
       "description_width": ""
      }
     },
     "54e6d627e5d24150bc6aaf6a7fa81dbb": {
      "model_module": "@jupyter-widgets/base",
      "model_module_version": "1.2.0",
      "model_name": "LayoutModel",
      "state": {
       "max_width": "700px",
       "min_width": "700px"
      }
     },
     "550d0c05a90a49f9aa69469363663166": {
      "model_module": "@jupyter-widgets/controls",
      "model_module_version": "1.5.0",
      "model_name": "DescriptionStyleModel",
      "state": {
       "description_width": ""
      }
     },
     "55d4abdee96f44c8ae29d85349e34932": {
      "model_module": "@jupyter-widgets/base",
      "model_module_version": "1.2.0",
      "model_name": "LayoutModel",
      "state": {
       "width": "70px"
      }
     },
     "5672273d974f4c9bad39c0a2f508a131": {
      "model_module": "@jupyter-widgets/base",
      "model_module_version": "1.2.0",
      "model_name": "LayoutModel",
      "state": {
       "margin": "0px 5px 0px 0px",
       "width": "32px"
      }
     },
     "584e1493fd3546dfba253d09fc3263b6": {
      "model_module": "@jupyter-widgets/controls",
      "model_module_version": "1.5.0",
      "model_name": "GridBoxModel",
      "state": {
       "children": [
        "IPY_MODEL_33b3b04c8ce44c1d9df4c0e5a612cc2c"
       ],
       "layout": "IPY_MODEL_6196ee677b7e468197c7b72a040523c0"
      }
     },
     "58f4dabdcf324995a19e1ea1106bb518": {
      "model_module": "@jupyter-widgets/controls",
      "model_module_version": "1.5.0",
      "model_name": "HTMLModel",
      "state": {
       "layout": "IPY_MODEL_ab68ea82076e4b9caf1a77a4ca9af153",
       "style": "IPY_MODEL_06e08d2ad3c34851bd7bb3c15bf3491d",
       "value": "1"
      }
     },
     "5b1631d2c9a74577be5d13c02d40eef8": {
      "model_module": "@jupyter-widgets/base",
      "model_module_version": "1.2.0",
      "model_name": "LayoutModel",
      "state": {
       "overflow_x": "scroll"
      }
     },
     "5e85163a6d1e4fd2885f74853efdfc70": {
      "model_module": "@jupyter-widgets/controls",
      "model_module_version": "1.5.0",
      "model_name": "DescriptionStyleModel",
      "state": {
       "description_width": ""
      }
     },
     "601f42a415994c5e8ffd6da4ac49e7a5": {
      "model_module": "@jupyter-widgets/controls",
      "model_module_version": "1.5.0",
      "model_name": "DescriptionStyleModel",
      "state": {
       "description_width": ""
      }
     },
     "6196ee677b7e468197c7b72a040523c0": {
      "model_module": "@jupyter-widgets/base",
      "model_module_version": "1.2.0",
      "model_name": "LayoutModel",
      "state": {
       "grid_template_areas": "\n                                       \". . . . right \"\n                                        ",
       "grid_template_columns": "20% 20% 20% 20% 20%",
       "width": "100%"
      }
     },
     "653351dde12a45f787354c38e52440db": {
      "model_module": "@jupyter-widgets/controls",
      "model_module_version": "1.5.0",
      "model_name": "DescriptionStyleModel",
      "state": {
       "description_width": ""
      }
     },
     "668beb464aae4952b4e46d58805b9dda": {
      "model_module": "@jupyter-widgets/controls",
      "model_module_version": "1.5.0",
      "model_name": "HTMLModel",
      "state": {
       "layout": "IPY_MODEL_55d4abdee96f44c8ae29d85349e34932",
       "style": "IPY_MODEL_8fa653bdad2a40a6b1bcf2d549ec633f",
       "value": "9"
      }
     },
     "6857d4b191b34bc4abf0f90e5bb1c36b": {
      "model_module": "@jupyter-widgets/controls",
      "model_module_version": "1.5.0",
      "model_name": "HTMLModel",
      "state": {
       "layout": "IPY_MODEL_985f4bab70444f36b4b11966a036e404",
       "style": "IPY_MODEL_f3b27c31364c45e2ab69a85728d91820",
       "value": "<h5>Job ID</h5>"
      }
     },
     "6b382b492c0e43b494dec603e34ed6a9": {
      "model_module": "@jupyter-widgets/controls",
      "model_module_version": "1.5.0",
      "model_name": "HTMLModel",
      "state": {
       "layout": "IPY_MODEL_e54ebbaa8a8644bba69a846fa3e0a7e1",
       "style": "IPY_MODEL_2b1c9619ef8b4b6a9c10d54cce1b3137",
       "value": "<h5>Backend</h5>"
      }
     },
     "6f6cf358f0b34f82b0c54ced6a40c9c4": {
      "model_module": "@jupyter-widgets/controls",
      "model_module_version": "1.5.0",
      "model_name": "DescriptionStyleModel",
      "state": {
       "description_width": ""
      }
     },
     "6fbfa87c3ec04987bb1598f35e5dccd2": {
      "model_module": "@jupyter-widgets/controls",
      "model_module_version": "1.5.0",
      "model_name": "DescriptionStyleModel",
      "state": {
       "description_width": ""
      }
     },
     "7133f7990bb04c2c9cf1ad679a2e7f12": {
      "model_module": "@jupyter-widgets/controls",
      "model_module_version": "1.5.0",
      "model_name": "DescriptionStyleModel",
      "state": {
       "description_width": ""
      }
     },
     "71f42729e18240e5a411709c75a5f4d4": {
      "model_module": "@jupyter-widgets/base",
      "model_module_version": "1.2.0",
      "model_name": "LayoutModel",
      "state": {
       "width": "70px"
      }
     },
     "7532fe2c01a44a6d99ad29efb5dc33ac": {
      "model_module": "@jupyter-widgets/base",
      "model_module_version": "1.2.0",
      "model_name": "LayoutModel",
      "state": {
       "overflow_x": "scroll"
      }
     },
     "75eaa2e7583948f0bb8f661a06a17b72": {
      "model_module": "@jupyter-widgets/controls",
      "model_module_version": "1.5.0",
      "model_name": "HTMLModel",
      "state": {
       "layout": "IPY_MODEL_0bac08da286a45739f13477f8f5edeb1",
       "style": "IPY_MODEL_c4e5cb88a4234473878d0e82dfc3d993",
       "value": "ibm_nairobi"
      }
     },
     "76b1f4c483114b548025024def587c0d": {
      "model_module": "@jupyter-widgets/controls",
      "model_module_version": "1.5.0",
      "model_name": "HTMLModel",
      "state": {
       "layout": "IPY_MODEL_158a92f443304fc7953406f995cf2ed5",
       "style": "IPY_MODEL_924dc05d433f40eebdbcf7152bb80302",
       "value": "job is queued"
      }
     },
     "78deb9dc29614f38832aea76ab801c73": {
      "model_module": "@jupyter-widgets/controls",
      "model_module_version": "1.5.0",
      "model_name": "ButtonStyleModel",
      "state": {
       "button_color": "white"
      }
     },
     "79569811cdc44cd88e7822a23499309d": {
      "model_module": "@jupyter-widgets/controls",
      "model_module_version": "1.5.0",
      "model_name": "HTMLModel",
      "state": {
       "layout": "IPY_MODEL_0dc70c4f99a141ff95239ab48bf816cf",
       "style": "IPY_MODEL_2b0656d50e844e2d92b0a47a24b77f07",
       "value": "<font style='color:#34BC6E'>DONE</font>"
      }
     },
     "7c5cb0fcc97244d6b50c7bab8e9786c0": {
      "model_module": "@jupyter-widgets/base",
      "model_module_version": "1.2.0",
      "model_name": "LayoutModel",
      "state": {
       "width": "95px"
      }
     },
     "875ccf17c2fa4010a020f7deb2d16063": {
      "model_module": "@jupyter-widgets/controls",
      "model_module_version": "1.5.0",
      "model_name": "ButtonModel",
      "state": {
       "icon": "close",
       "layout": "IPY_MODEL_5672273d974f4c9bad39c0a2f508a131",
       "style": "IPY_MODEL_2f28d6aa09cb4733a3f2d13cedfeef1f"
      }
     },
     "89a9ba3c9c6d49499e882b7bdfe5ff03": {
      "model_module": "@jupyter-widgets/controls",
      "model_module_version": "1.5.0",
      "model_name": "DescriptionStyleModel",
      "state": {
       "description_width": ""
      }
     },
     "8a3f5b2ec79f43c486d3e81af5532f3c": {
      "model_module": "@jupyter-widgets/controls",
      "model_module_version": "1.5.0",
      "model_name": "HTMLModel",
      "state": {
       "layout": "IPY_MODEL_23b38c70fc3e4153ac5b87cf9164b5f3",
       "style": "IPY_MODEL_f15ae60a187f432ea44972469941664f",
       "value": "<p style='font-family: IBM Plex Sans, Arial, Helvetica, sans-serif; font-size: 20px; font-weight: medium;'>Circuit Properties</p>"
      }
     },
     "8b5aa2107db9432ab5c157f19edb7504": {
      "model_module": "@jupyter-widgets/base",
      "model_module_version": "1.2.0",
      "model_name": "LayoutModel",
      "state": {
       "margin": "0px 5px 0px 0px",
       "width": "32px"
      }
     },
     "8c3c74a8682944269a61e3cadfb88525": {
      "model_module": "@jupyter-widgets/controls",
      "model_module_version": "1.5.0",
      "model_name": "HTMLModel",
      "state": {
       "layout": "IPY_MODEL_14e84e944dff49e68ab048598bf7d0a9",
       "style": "IPY_MODEL_98ea5b25d65b4c59b595d1a934f2bd04",
       "value": "job is queued"
      }
     },
     "8f696fcfc666485dbc6ee21607152dbd": {
      "model_module": "@jupyter-widgets/base",
      "model_module_version": "1.2.0",
      "model_name": "LayoutModel",
      "state": {
       "margin": "0px 5px 0px 0px",
       "width": "32px"
      }
     },
     "8fa653bdad2a40a6b1bcf2d549ec633f": {
      "model_module": "@jupyter-widgets/controls",
      "model_module_version": "1.5.0",
      "model_name": "DescriptionStyleModel",
      "state": {
       "description_width": ""
      }
     },
     "924dc05d433f40eebdbcf7152bb80302": {
      "model_module": "@jupyter-widgets/controls",
      "model_module_version": "1.5.0",
      "model_name": "DescriptionStyleModel",
      "state": {
       "description_width": ""
      }
     },
     "960585c99a6f4928840fdaa962ed7e5d": {
      "model_module": "@jupyter-widgets/controls",
      "model_module_version": "1.5.0",
      "model_name": "HTMLModel",
      "state": {
       "layout": "IPY_MODEL_29164635409a4447a31fe8879c8be760",
       "style": "IPY_MODEL_601f42a415994c5e8ffd6da4ac49e7a5",
       "value": "QUEUED"
      }
     },
     "97963049c5384eff8c92167ec0daecb5": {
      "model_module": "@jupyter-widgets/controls",
      "model_module_version": "1.5.0",
      "model_name": "DescriptionStyleModel",
      "state": {
       "description_width": ""
      }
     },
     "985f4bab70444f36b4b11966a036e404": {
      "model_module": "@jupyter-widgets/base",
      "model_module_version": "1.2.0",
      "model_name": "LayoutModel",
      "state": {
       "width": "190px"
      }
     },
     "98ea5b25d65b4c59b595d1a934f2bd04": {
      "model_module": "@jupyter-widgets/controls",
      "model_module_version": "1.5.0",
      "model_name": "DescriptionStyleModel",
      "state": {
       "description_width": ""
      }
     },
     "9ce7d3893397437f876611eb2554805f": {
      "model_module": "@jupyter-widgets/base",
      "model_module_version": "1.2.0",
      "model_name": "LayoutModel",
      "state": {
       "width": "190px"
      }
     },
     "9f5be5fc9f9f4da2a97c2a3623ae7ebb": {
      "model_module": "@jupyter-widgets/base",
      "model_module_version": "1.2.0",
      "model_name": "LayoutModel",
      "state": {
       "margin": "0px 5px 0px 0px",
       "width": "32px"
      }
     },
     "a6619c3e1fad4f3996386d916ccfab6a": {
      "model_module": "@jupyter-widgets/controls",
      "model_module_version": "1.5.0",
      "model_name": "HTMLModel",
      "state": {
       "layout": "IPY_MODEL_36c54ea070f14d209fee7c319753fa55",
       "style": "IPY_MODEL_7133f7990bb04c2c9cf1ad679a2e7f12",
       "value": "ibm_nairobi"
      }
     },
     "ab68ea82076e4b9caf1a77a4ca9af153": {
      "model_module": "@jupyter-widgets/base",
      "model_module_version": "1.2.0",
      "model_name": "LayoutModel",
      "state": {
       "width": "70px"
      }
     },
     "add20cca7eae4ce78548546c087e8497": {
      "model_module": "@jupyter-widgets/controls",
      "model_module_version": "1.5.0",
      "model_name": "DescriptionStyleModel",
      "state": {
       "description_width": ""
      }
     },
     "b9b41830e63e4181babbb0cc4d804db1": {
      "model_module": "@jupyter-widgets/controls",
      "model_module_version": "1.5.0",
      "model_name": "HTMLModel",
      "state": {
       "layout": "IPY_MODEL_2fbe03a2233c4ea4ad06d3497d6dec34",
       "style": "IPY_MODEL_add20cca7eae4ce78548546c087e8497",
       "value": "QUEUED"
      }
     },
     "c00670c8e3464dc780e7606a201f0042": {
      "model_module": "@jupyter-widgets/controls",
      "model_module_version": "1.5.0",
      "model_name": "HTMLModel",
      "state": {
       "layout": "IPY_MODEL_05d745e31f444ebe8ee161272b374cf7",
       "style": "IPY_MODEL_653351dde12a45f787354c38e52440db",
       "value": "QUEUED"
      }
     },
     "c4e5cb88a4234473878d0e82dfc3d993": {
      "model_module": "@jupyter-widgets/controls",
      "model_module_version": "1.5.0",
      "model_name": "DescriptionStyleModel",
      "state": {
       "description_width": ""
      }
     },
     "c9a8c676b5354ca19b33fa0e239c1865": {
      "model_module": "@jupyter-widgets/base",
      "model_module_version": "1.2.0",
      "model_name": "LayoutModel",
      "state": {
       "max_width": "700px",
       "min_width": "700px"
      }
     },
     "cb0140335a5f453296b15cb2bff26216": {
      "model_module": "@jupyter-widgets/controls",
      "model_module_version": "1.5.0",
      "model_name": "HTMLModel",
      "state": {
       "layout": "IPY_MODEL_5b1631d2c9a74577be5d13c02d40eef8",
       "style": "IPY_MODEL_2fafeb8ecb6f4d82af7c8b478375edf4",
       "value": "job has successfully run"
      }
     },
     "cb310aad71bf4f6f8641cdc9ac3c7d88": {
      "model_module": "@jupyter-widgets/controls",
      "model_module_version": "1.5.0",
      "model_name": "HTMLModel",
      "state": {
       "layout": "IPY_MODEL_7c5cb0fcc97244d6b50c7bab8e9786c0",
       "style": "IPY_MODEL_5e85163a6d1e4fd2885f74853efdfc70",
       "value": "<h5>Status</h5>"
      }
     },
     "ce634acabef54a4187ad8a230d525afb": {
      "model_module": "@jupyter-widgets/base",
      "model_module_version": "1.2.0",
      "model_name": "LayoutModel",
      "state": {
       "grid_area": "right",
       "padding": "0px 0px 0px 0px",
       "width": "70px"
      }
     },
     "d940dd96d09d40b48db0ba2e1c36fe1a": {
      "model_module": "@jupyter-widgets/base",
      "model_module_version": "1.2.0",
      "model_name": "LayoutModel",
      "state": {
       "width": "145px"
      }
     },
     "dcd016e2368d451e85a9f21d72668cdb": {
      "model_module": "@jupyter-widgets/controls",
      "model_module_version": "1.5.0",
      "model_name": "HTMLModel",
      "state": {
       "layout": "IPY_MODEL_454a9e8980e643209a69076b24932b2f",
       "style": "IPY_MODEL_97963049c5384eff8c92167ec0daecb5",
       "value": "62bc99c8cd175b94fbe70226"
      }
     },
     "dd1b4b0fed38448aa6f1b02fd04bda3f": {
      "model_module": "@jupyter-widgets/controls",
      "model_module_version": "1.5.0",
      "model_name": "HBoxModel",
      "state": {
       "children": [
        "IPY_MODEL_2f43d1f5f3a24c07852c90a9597b1000",
        "IPY_MODEL_475fa3cb0a124599a1d9b40f40fac49a",
        "IPY_MODEL_a6619c3e1fad4f3996386d916ccfab6a",
        "IPY_MODEL_c00670c8e3464dc780e7606a201f0042",
        "IPY_MODEL_2a56e2fbf3c9410d9e19fcfd1047665a",
        "IPY_MODEL_76b1f4c483114b548025024def587c0d"
       ],
       "layout": "IPY_MODEL_54e6d627e5d24150bc6aaf6a7fa81dbb"
      }
     },
     "df879a9767e84925970f21d811f98517": {
      "model_module": "@jupyter-widgets/base",
      "model_module_version": "1.2.0",
      "model_name": "LayoutModel",
      "state": {
       "width": "145px"
      }
     },
     "e28894a60f5e40e38b58cc9bc6cd5235": {
      "model_module": "@jupyter-widgets/controls",
      "model_module_version": "1.5.0",
      "model_name": "DescriptionStyleModel",
      "state": {
       "description_width": ""
      }
     },
     "e360e4abf3d647918ad3a045720a8f12": {
      "model_module": "@jupyter-widgets/controls",
      "model_module_version": "1.5.0",
      "model_name": "DescriptionStyleModel",
      "state": {
       "description_width": ""
      }
     },
     "e40bbafd755b4832b013d690ec2f1c40": {
      "model_module": "@jupyter-widgets/controls",
      "model_module_version": "1.5.0",
      "model_name": "HTMLModel",
      "state": {
       "layout": "IPY_MODEL_3de5a347246d43b6a48c8d7f13d20b09",
       "style": "IPY_MODEL_550d0c05a90a49f9aa69469363663166",
       "value": "<h5>Queue</h5>"
      }
     },
     "e54ebbaa8a8644bba69a846fa3e0a7e1": {
      "model_module": "@jupyter-widgets/base",
      "model_module_version": "1.2.0",
      "model_name": "LayoutModel",
      "state": {
       "width": "145px"
      }
     },
     "eccbd8e16b1c431dbcc5c2e89fa5dc03": {
      "model_module": "@jupyter-widgets/controls",
      "model_module_version": "1.5.0",
      "model_name": "DescriptionStyleModel",
      "state": {
       "description_width": ""
      }
     },
     "f0b8897918fe42b79bbe7a9b6d02e3ac": {
      "model_module": "@jupyter-widgets/base",
      "model_module_version": "1.2.0",
      "model_name": "LayoutModel",
      "state": {
       "margin": "0px 0px 0px 37px",
       "width": "600px"
      }
     },
     "f15ae60a187f432ea44972469941664f": {
      "model_module": "@jupyter-widgets/controls",
      "model_module_version": "1.5.0",
      "model_name": "DescriptionStyleModel",
      "state": {
       "description_width": ""
      }
     },
     "f3b27c31364c45e2ab69a85728d91820": {
      "model_module": "@jupyter-widgets/controls",
      "model_module_version": "1.5.0",
      "model_name": "DescriptionStyleModel",
      "state": {
       "description_width": ""
      }
     },
     "f7fc62a022db4675b23a37e18e0650ab": {
      "model_module": "@jupyter-widgets/controls",
      "model_module_version": "1.5.0",
      "model_name": "HTMLModel",
      "state": {
       "layout": "IPY_MODEL_df879a9767e84925970f21d811f98517",
       "style": "IPY_MODEL_e28894a60f5e40e38b58cc9bc6cd5235",
       "value": "ibm_nairobi"
      }
     },
     "fb467064d59443a4877486225c2c396f": {
      "model_module": "@jupyter-widgets/controls",
      "model_module_version": "1.5.0",
      "model_name": "HBoxModel",
      "state": {
       "children": [
        "IPY_MODEL_875ccf17c2fa4010a020f7deb2d16063",
        "IPY_MODEL_3b63da3d18204448b4c65e74f57fdca2",
        "IPY_MODEL_75eaa2e7583948f0bb8f661a06a17b72",
        "IPY_MODEL_79569811cdc44cd88e7822a23499309d",
        "IPY_MODEL_1524f1de54ff499ebfae53a9c416a728",
        "IPY_MODEL_cb0140335a5f453296b15cb2bff26216"
       ],
       "layout": "IPY_MODEL_3c7da62dd5ce4b539d96221eddc12f45"
      }
     }
    },
    "version_major": 2,
    "version_minor": 0
   }
  }
 },
 "nbformat": 4,
 "nbformat_minor": 5
}
